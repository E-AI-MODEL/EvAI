{
 "cells": [
  {
   "cell_type": "markdown",
   "id": "e3f04d7b",
   "metadata": {},
   "source": [
    "# E_AI Feedback Validator - Volledige Gratis Versie\n",
    "Deze notebook voert een volledige analyse uit op basis van:\n",
    "- Rubricmatching voor alle kernparameters\n",
    "- Chain-of-Thought redenering\n",
    "- Taakdichtheid-analyse\n",
    "- Flags en risico's\n",
    "- Compliancecheck\n",
    "- Adviesgeneratie\n",
    "\n",
    "Gebruik: upload de rubric JSON-bestanden en matrix."
   ]
  },
  {
   "cell_type": "code",
   "execution_count": null,
   "id": "183912b0",
   "metadata": {},
   "outputs": [],
   "source": [
    "from google.colab import files\n",
    "uploaded = files.upload()"
   ]
  },
  {
   "cell_type": "code",
   "execution_count": null,
   "id": "bfe0a160",
   "metadata": {},
   "outputs": [],
   "source": [
    "import json\n",
    "rubrics = {}\n",
    "for filename in uploaded:\n",
    "    with open(filename, 'r') as f:\n",
    "        rubrics[filename] = json.load(f)\n",
    "print(f\"{len(rubrics)} bestanden geladen.\")"
   ]
  },
  {
   "cell_type": "code",
   "execution_count": null,
   "id": "eae8fcdf",
   "metadata": {},
   "outputs": [],
   "source": [
    "context = {\n",
    "    'leerdoel': 'Leerlingen verbeteren hun schrijfvaardigheid door AI-feedback te analyseren',\n",
    "    'ai_tool': 'AI-chatbot die suggesties geeft voor herformulering',\n",
    "    'doelgroep': 'VO bovenbouw',\n",
    "    'vakgebied': 'Nederlands',\n",
    "    'extra': 'Focus op zelfregulatie, reflectie en autonomie'\n",
    "}\n",
    "print(context)"
   ]
  },
  {
   "cell_type": "code",
   "execution_count": null,
   "id": "775b6b34",
   "metadata": {},
   "outputs": [],
   "source": [
    "def analyse_parameter(param_id):\n",
    "    rubric_key = next(k for k in rubrics if param_id in k)\n",
    "    rubric = rubrics[rubric_key]['parameters'][0]\n",
    "    band = rubric['score_bands'][2]  # Kies middenband voor demo\n",
    "    explanation = f\"\"\"\n",
    "Explain:\n",
    "{band['description']}\n",
    "\n",
    "Validate:\n",
    "Microdescriptor: {band['microdescriptors'][0]}\n",
    "\n",
    "Assumptions:\n",
    "De AI ondersteunt gedeeltelijk maar leerlingactiviteit is beperkt.\n",
    "\n",
    "Alternatives:\n",
    "Bij meer zelfregie of inzicht is een hogere score denkbaar.\n",
    "\n",
    "Contextualize:\n",
    "Voor {context['doelgroep']} in {context['vakgebied']} is dit niveau gepast.\n",
    "\"\"\"\n",
    "    return rubric['name'], band['range'], explanation, band.get('risks_flags', [])"
   ]
  },
  {
   "cell_type": "code",
   "execution_count": null,
   "id": "1fc5c35d",
   "metadata": {},
   "outputs": [],
   "source": [
    "name, score_range, explanation, flags = analyse_parameter('V_A')\n",
    "print(f'### V_A - {name}')\n",
    "print(f'Scoreband: {score_range}')\n",
    "print(explanation)\n",
    "if flags: print('Flags:', flags)"
   ]
  },
  {
   "cell_type": "code",
   "execution_count": null,
   "id": "8cbbc341",
   "metadata": {},
   "outputs": [],
   "source": [
    "name, score_range, explanation, flags = analyse_parameter('V_M')\n",
    "print(f'### V_M - {name}')\n",
    "print(f'Scoreband: {score_range}')\n",
    "print(explanation)\n",
    "if flags: print('Flags:', flags)"
   ]
  },
  {
   "cell_type": "code",
   "execution_count": null,
   "id": "b68cbd0a",
   "metadata": {},
   "outputs": [],
   "source": [
    "name, score_range, explanation, flags = analyse_parameter('V_C')\n",
    "print(f'### V_C - {name}')\n",
    "print(f'Scoreband: {score_range}')\n",
    "print(explanation)\n",
    "if flags: print('Flags:', flags)"
   ]
  },
  {
   "cell_type": "code",
   "execution_count": null,
   "id": "d98afc18",
   "metadata": {},
   "outputs": [],
   "source": [
    "name, score_range, explanation, flags = analyse_parameter('V_S')\n",
    "print(f'### V_S - {name}')\n",
    "print(f'Scoreband: {score_range}')\n",
    "print(explanation)\n",
    "if flags: print('Flags:', flags)"
   ]
  },
  {
   "cell_type": "code",
   "execution_count": null,
   "id": "4beeff72",
   "metadata": {},
   "outputs": [],
   "source": [
    "name, score_range, explanation, flags = analyse_parameter('D_A')\n",
    "print(f'### D_A - {name}')\n",
    "print(f'Scoreband: {score_range}')\n",
    "print(explanation)\n",
    "if flags: print('Flags:', flags)"
   ]
  },
  {
   "cell_type": "code",
   "execution_count": null,
   "id": "7036c977",
   "metadata": {},
   "outputs": [],
   "source": [
    "name, score_range, explanation, flags = analyse_parameter('D_Bc')\n",
    "print(f'### D_Bc - {name}')\n",
    "print(f'Scoreband: {score_range}')\n",
    "print(explanation)\n",
    "if flags: print('Flags:', flags)"
   ]
  },
  {
   "cell_type": "code",
   "execution_count": null,
   "id": "f34699a5",
   "metadata": {},
   "outputs": [],
   "source": [
    "name, score_range, explanation, flags = analyse_parameter('T')\n",
    "print(f'### T - {name}')\n",
    "print(f'Scoreband: {score_range}')\n",
    "print(explanation)\n",
    "if flags: print('Flags:', flags)"
   ]
  },
  {
   "cell_type": "code",
   "execution_count": null,
   "id": "87f22a25",
   "metadata": {},
   "outputs": [],
   "source": [
    "name, score_range, explanation, flags = analyse_parameter('A')\n",
    "print(f'### A - {name}')\n",
    "print(f'Scoreband: {score_range}')\n",
    "print(explanation)\n",
    "if flags: print('Flags:', flags)"
   ]
  },
  {
   "cell_type": "code",
   "execution_count": null,
   "id": "be0cf459",
   "metadata": {},
   "outputs": [],
   "source": [
    "name, score_range, explanation, flags = analyse_parameter('B')\n",
    "print(f'### B - {name}')\n",
    "print(f'Scoreband: {score_range}')\n",
    "print(explanation)\n",
    "if flags: print('Flags:', flags)"
   ]
  },
  {
   "cell_type": "code",
   "execution_count": null,
   "id": "23d5ec1e",
   "metadata": {},
   "outputs": [],
   "source": [
    "name, score_range, explanation, flags = analyse_parameter('P')\n",
    "print(f'### P - {name}')\n",
    "print(f'Scoreband: {score_range}')\n",
    "print(explanation)\n",
    "if flags: print('Flags:', flags)"
   ]
  }
 ],
 "metadata": {},
 "nbformat": 4,
 "nbformat_minor": 5
}